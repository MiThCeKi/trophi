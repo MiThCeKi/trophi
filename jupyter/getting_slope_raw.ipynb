{
 "cells": [
  {
   "cell_type": "code",
   "execution_count": 128,
   "id": "15be2130",
   "metadata": {},
   "outputs": [],
   "source": [
    "import pandas as pd"
   ]
  },
  {
   "cell_type": "code",
   "execution_count": 2,
   "id": "d3b6a459",
   "metadata": {},
   "outputs": [],
   "source": [
    "import pandas, sklearn, matplotlib, seaborn, nltk, bs4"
   ]
  },
  {
   "cell_type": "code",
   "execution_count": 3,
   "id": "8ffeecd2",
   "metadata": {},
   "outputs": [],
   "source": [
    "np_lap_data = pd.read_csv(\"f1_lap_2098.csv\", delimiter=\",\")"
   ]
  },
  {
   "cell_type": "code",
   "execution_count": 4,
   "id": "ce632464",
   "metadata": {},
   "outputs": [],
   "source": [
    "np_lap_data.to_csv('np_lap_data_write_for_fun.csv', index = False)"
   ]
  },
  {
   "cell_type": "code",
   "execution_count": 5,
   "id": "563d65f5",
   "metadata": {},
   "outputs": [],
   "source": [
    "import matplotlib.pyplot as plt"
   ]
  },
  {
   "cell_type": "code",
   "execution_count": 6,
   "id": "82b1fb08",
   "metadata": {},
   "outputs": [],
   "source": [
    "import numpy as np"
   ]
  },
  {
   "cell_type": "code",
   "execution_count": 7,
   "id": "9f752b08",
   "metadata": {},
   "outputs": [
    {
     "name": "stdout",
     "output_type": "stream",
     "text": [
      "           id  lap_time_id  speed  throttle  brake  clutch  drs  engine_rpm  \\\n",
      "0     5857070         2098    267       100      0       0    0       10729   \n",
      "1     5857071         2098    267       100      0       0    0       10759   \n",
      "2     5857072         2098    267       100      0       0    0       10772   \n",
      "3     5857073         2098    268       100      0       0    0       10790   \n",
      "4     5857074         2098    268       100      0       0    0       10801   \n",
      "...       ...          ...    ...       ...    ...     ...  ...         ...   \n",
      "3420  5860490         2098    263       100      0       0    0       12080   \n",
      "3421  5860491         2098    264       100      0       0    0       12108   \n",
      "3422  5860492         2098    264       100      0       0    0       12122   \n",
      "3423  5860493         2098    265       100      0       0    0       12147   \n",
      "3424  5860494         2098    265       100      0       0    0       12160   \n",
      "\n",
      "      steer  gear  ...  gForceLateral  gForceLongitudinal  gForceVertical  \\\n",
      "0         1     7  ...      -0.417695            0.515778        0.249818   \n",
      "1         1     7  ...      -0.393076            0.501789       -0.237260   \n",
      "2         1     7  ...      -0.385791            0.506563       -0.404950   \n",
      "3         1     7  ...      -0.401919            0.511576       -0.144723   \n",
      "4         1     7  ...      -0.405502            0.502841        0.051530   \n",
      "...     ...   ...  ...            ...                 ...             ...   \n",
      "3420      1     6  ...      -0.302259            0.513596        0.123405   \n",
      "3421      1     6  ...      -0.282602            0.506835        0.064541   \n",
      "3422      1     6  ...      -0.277904            0.503811       -0.070092   \n",
      "3423      1     6  ...      -0.278335            0.496424        0.168518   \n",
      "3424      1     6  ...      -0.279342            0.493871        0.195764   \n",
      "\n",
      "           yaw     pitch      roll  frontWheelAngle  drs_allowed  \\\n",
      "0     2.522515  0.001850  0.004958         0.003057            0   \n",
      "1     2.520840  0.002875  0.004843         0.003057            0   \n",
      "2     2.519986  0.003252  0.004790         0.003057            0   \n",
      "3     2.518221  0.002277  0.004130         0.003057            0   \n",
      "4     2.517322  0.001888  0.003868         0.003057            0   \n",
      "...        ...       ...       ...              ...          ...   \n",
      "3420  2.534490  0.004873  0.006567         0.002178            0   \n",
      "3421  2.533318  0.004134  0.006167         0.002178            0   \n",
      "3422  2.532707  0.003721  0.005821         0.002178            0   \n",
      "3423  2.531473  0.003204  0.005668         0.002178            0   \n",
      "3424  2.530833  0.002720  0.005525         0.002178            0   \n",
      "\n",
      "      button_status  surface_type  \n",
      "0              1024   \"[0,0,0,0]\"  \n",
      "1              1024   \"[0,0,0,0]\"  \n",
      "2              1024   \"[0,0,0,0]\"  \n",
      "3              1024   \"[0,0,0,0]\"  \n",
      "4              1024   \"[0,0,0,0]\"  \n",
      "...             ...           ...  \n",
      "3420              0   \"[0,0,0,0]\"  \n",
      "3421              0   \"[0,0,0,0]\"  \n",
      "3422              0   \"[0,0,0,0]\"  \n",
      "3423              0   \"[0,0,0,0]\"  \n",
      "3424           1024   \"[0,0,0,0]\"  \n",
      "\n",
      "[3425 rows x 41 columns]\n"
     ]
    }
   ],
   "source": [
    "print(np_lap_data)"
   ]
  },
  {
   "cell_type": "code",
   "execution_count": 8,
   "id": "1c5e0de7",
   "metadata": {},
   "outputs": [
    {
     "data": {
      "text/plain": [
       "0       0\n",
       "1       0\n",
       "2       0\n",
       "3       0\n",
       "4       0\n",
       "       ..\n",
       "3420    0\n",
       "3421    0\n",
       "3422    0\n",
       "3423    0\n",
       "3424    0\n",
       "Name: brake, Length: 3425, dtype: int64"
      ]
     },
     "execution_count": 8,
     "metadata": {},
     "output_type": "execute_result"
    }
   ],
   "source": [
    "np_lap_data.loc[:,'brake']"
   ]
  },
  {
   "cell_type": "code",
   "execution_count": 9,
   "id": "7fe375c1",
   "metadata": {},
   "outputs": [],
   "source": [
    "brake = np_lap_data.loc[:,'brake']\n",
    "throttle = np_lap_data.loc[:,'throttle']"
   ]
  },
  {
   "cell_type": "code",
   "execution_count": 10,
   "id": "71cb0b28",
   "metadata": {},
   "outputs": [
    {
     "name": "stdout",
     "output_type": "stream",
     "text": [
      "0       0\n",
      "1       0\n",
      "2       0\n",
      "3       0\n",
      "4       0\n",
      "       ..\n",
      "3420    0\n",
      "3421    0\n",
      "3422    0\n",
      "3423    0\n",
      "3424    0\n",
      "Name: brake, Length: 3425, dtype: int64\n",
      "0       100\n",
      "1       100\n",
      "2       100\n",
      "3       100\n",
      "4       100\n",
      "       ... \n",
      "3420    100\n",
      "3421    100\n",
      "3422    100\n",
      "3423    100\n",
      "3424    100\n",
      "Name: throttle, Length: 3425, dtype: int64\n"
     ]
    }
   ],
   "source": [
    "print(brake)\n",
    "print(throttle)"
   ]
  },
  {
   "cell_type": "code",
   "execution_count": 11,
   "id": "688a3bc9",
   "metadata": {},
   "outputs": [],
   "source": [
    "time_elapsed = range(len(brake))"
   ]
  },
  {
   "cell_type": "code",
   "execution_count": 12,
   "id": "96160b62",
   "metadata": {},
   "outputs": [
    {
     "name": "stdout",
     "output_type": "stream",
     "text": [
      "range(0, 3425)\n"
     ]
    }
   ],
   "source": [
    "print(time_elapsed)"
   ]
  },
  {
   "cell_type": "code",
   "execution_count": 231,
   "id": "55d90ce2",
   "metadata": {},
   "outputs": [
    {
     "data": {
      "text/plain": [
       "[<matplotlib.lines.Line2D at 0x7fd31c51bee0>]"
      ]
     },
     "execution_count": 231,
     "metadata": {},
     "output_type": "execute_result"
    },
    {
     "data": {
      "image/png": "[encoded data removed]",
      "text/plain": [
       "<Figure size 432x288 with 1 Axes>"
      ]
     },
     "metadata": {
      "needs_background": "light"
     },
     "output_type": "display_data"
    }
   ],
   "source": [
    "plt.plot(time_elapsed, brake)"
   ]
  },
  {
   "cell_type": "code",
   "execution_count": 14,
   "id": "65ac8a77",
   "metadata": {},
   "outputs": [],
   "source": [
    "import scipy as sp"
   ]
  },
  {
   "cell_type": "code",
   "execution_count": 15,
   "id": "6bd248da",
   "metadata": {},
   "outputs": [],
   "source": [
    "from scipy.signal import find_peaks"
   ]
  },
  {
   "cell_type": "code",
   "execution_count": 244,
   "id": "c79b3785",
   "metadata": {},
   "outputs": [],
   "source": [
    "peaks_brake, peak_properties_brake = find_peaks(brake, height=0, width = 5)\n",
    "peaks_throttle, peak_properties_throttle = find_peaks(throttle, height=0, width = 5)"
   ]
  },
  {
   "cell_type": "code",
   "execution_count": 17,
   "id": "9832d390",
   "metadata": {},
   "outputs": [
    {
     "name": "stdout",
     "output_type": "stream",
     "text": [
      "{'left_bases': array([ 461,  614, 1207, 1362, 1362, 2243, 2324, 2833, 3135]),\n",
      " 'left_ips': array([ 490.5       ,  685.        , 1230.5       , 1445.5       ,\n",
      "       1407.        , 2258.83333333, 2348.33333333, 2851.75      ,\n",
      "       3182.5       ]),\n",
      " 'peak_heights': array([ 78., 100.,  73.,  73., 100.,  89., 100., 100.,  51.]),\n",
      " 'prominences': array([ 78., 100.,  73.,   1., 100.,  89., 100., 100.,   7.]),\n",
      " 'right_bases': array([ 562, 1123, 1283, 1456, 2234, 2298, 2795, 3061, 3199]),\n",
      " 'right_ips': array([ 557.71428571, 1116.3       , 1278.94642857, 1455.5       ,\n",
      "       2229.4137931 , 2292.66      , 2790.        , 3054.40909091,\n",
      "       3197.75      ]),\n",
      " 'width_heights': array([39. , 50. , 36.5, 72.5, 50. , 44.5, 50. , 50. , 47.5]),\n",
      " 'widths': array([ 67.21428571, 431.3       ,  48.44642857,  10.        ,\n",
      "       822.4137931 ,  33.82666667, 441.66666667, 202.65909091,\n",
      "        15.25      ])}\n"
     ]
    }
   ],
   "source": [
    "import pprint\n",
    "pp = pprint.PrettyPrinter(indent=1)\n",
    "pp.pprint(peak_properties_throttle)"
   ]
  },
  {
   "cell_type": "code",
   "execution_count": 245,
   "id": "75b01cf1",
   "metadata": {},
   "outputs": [
    {
     "name": "stdout",
     "output_type": "stream",
     "text": [
      "[ 402  569 1128 1289 1323 2240 2302 2803 3074]\n"
     ]
    }
   ],
   "source": [
    "print(peaks_brake)"
   ]
  },
  {
   "cell_type": "code",
   "execution_count": 257,
   "id": "386434e1",
   "metadata": {},
   "outputs": [
    {
     "data": {
      "text/plain": [
       "[<matplotlib.lines.Line2D at 0x7fd33185f370>]"
      ]
     },
     "execution_count": 257,
     "metadata": {},
     "output_type": "execute_result"
    },
    {
     "data": {
      "image/png": "[encoded data removed]",
      "text/plain": [
       "<Figure size 432x288 with 1 Axes>"
      ]
     },
     "metadata": {
      "needs_background": "light"
     },
     "output_type": "display_data"
    }
   ],
   "source": [
    "plt.plot(time_elapsed, brake)\n",
    "plt.plot(peaks_brake, brake[peaks_brake], \"x\")"
   ]
  },
  {
   "cell_type": "code",
   "execution_count": 20,
   "id": "fdbd56c0",
   "metadata": {},
   "outputs": [
    {
     "name": "stdout",
     "output_type": "stream",
     "text": [
      "402\n"
     ]
    }
   ],
   "source": [
    "print(peaks_brake[0])"
   ]
  },
  {
   "cell_type": "code",
   "execution_count": 21,
   "id": "06b2e474",
   "metadata": {},
   "outputs": [
    {
     "name": "stdout",
     "output_type": "stream",
     "text": [
      "[ 402  569 1128 1289 1323 2240 2302 2803 3074]\n"
     ]
    }
   ],
   "source": [
    "print(peaks_brake[peaks_brake>5])"
   ]
  },
  {
   "cell_type": "code",
   "execution_count": 22,
   "id": "605547c8",
   "metadata": {},
   "outputs": [
    {
     "name": "stdout",
     "output_type": "stream",
     "text": [
      "375      8\n",
      "376     15\n",
      "377     22\n",
      "378     29\n",
      "379     36\n",
      "        ..\n",
      "3130    14\n",
      "3131    13\n",
      "3132    12\n",
      "3133    11\n",
      "3134    10\n",
      "Name: brake, Length: 465, dtype: int64\n"
     ]
    }
   ],
   "source": [
    "print(brake[brake>5])"
   ]
  },
  {
   "cell_type": "code",
   "execution_count": 23,
   "id": "2b1680e1",
   "metadata": {},
   "outputs": [],
   "source": [
    "all_instances_of_braking = brake[brake>5]"
   ]
  },
  {
   "cell_type": "code",
   "execution_count": 24,
   "id": "aeac606a",
   "metadata": {},
   "outputs": [
    {
     "data": {
      "text/plain": [
       "8"
      ]
     },
     "execution_count": 24,
     "metadata": {},
     "output_type": "execute_result"
    }
   ],
   "source": [
    "all_instances_of_braking.iloc[0]"
   ]
  },
  {
   "cell_type": "code",
   "execution_count": 25,
   "id": "e0ace142",
   "metadata": {},
   "outputs": [
    {
     "name": "stdout",
     "output_type": "stream",
     "text": [
      "{'left_bases': array([ 372,  555, 1111, 1277, 1310, 2228, 2288, 2787, 3049]),\n",
      " 'left_ips': array([ 381.07142857,  558.83333333, 1116.07692308, 1280.25      ,\n",
      "       1313.5       , 2231.71428571, 2294.07142857, 2792.0625    ,\n",
      "       3056.07692308]),\n",
      " 'peak_heights': array([ 99.,  52.,  68.,  19.,  14.,  16.,  43.,  61., 100.]),\n",
      " 'prominences': array([ 99.,  52.,  68.,  19.,   3.,  16.,  43.,  61., 100.]),\n",
      " 'right_bases': array([ 468,  620, 1211, 1360, 1360, 2246, 2329, 2836, 3140]),\n",
      " 'right_ips': array([ 429.08333333,  584.71428571, 1159.        , 1339.75      ,\n",
      "       1335.5       , 2242.        , 2320.25      , 2820.5       ,\n",
      "       3104.        ]),\n",
      " 'width_heights': array([49.5, 26. , 34. ,  9.5, 12.5,  8. , 21.5, 30.5, 50. ]),\n",
      " 'widths': array([48.01190476, 25.88095238, 42.92307692, 59.5       , 22.        ,\n",
      "       10.28571429, 26.17857143, 28.4375    , 47.92307692])}\n"
     ]
    }
   ],
   "source": [
    "import pprint\n",
    "pp = pprint.PrettyPrinter(indent=1)\n",
    "pp.pprint(peak_properties_brake)"
   ]
  },
  {
   "cell_type": "code",
   "execution_count": 37,
   "id": "a6961080",
   "metadata": {},
   "outputs": [
    {
     "name": "stdout",
     "output_type": "stream",
     "text": [
      "<class 'dict'>\n",
      "372\n"
     ]
    }
   ],
   "source": [
    "print(type(peak_properties_brake))\n",
    "left_bases = peak_properties_brake['left_bases']\n",
    "left_base = peak_properties_brake['left_bases'][0]\n",
    "print(left_base)  "
   ]
  },
  {
   "cell_type": "code",
   "execution_count": 46,
   "id": "8a7f6bbb",
   "metadata": {},
   "outputs": [
    {
     "name": "stdout",
     "output_type": "stream",
     "text": [
      "30\n"
     ]
    }
   ],
   "source": [
    "run_of_slope = peaks_brake[0] - left_base\n",
    "print(run_of_slope)"
   ]
  },
  {
   "cell_type": "code",
   "execution_count": 50,
   "id": "9cae23bc",
   "metadata": {},
   "outputs": [
    {
     "name": "stdout",
     "output_type": "stream",
     "text": [
      "[ 402  569 1128 1289 1323 2240 2302 2803 3074]\n"
     ]
    }
   ],
   "source": [
    "print(peaks_brake)"
   ]
  },
  {
   "cell_type": "code",
   "execution_count": 79,
   "id": "fbac9445",
   "metadata": {},
   "outputs": [],
   "source": [
    "first_peak = peaks_brake[0]"
   ]
  },
  {
   "cell_type": "code",
   "execution_count": 73,
   "id": "e8dee135",
   "metadata": {},
   "outputs": [],
   "source": [
    "value_at_first_peak = brake[first_peak.item()]\n",
    "value_at_first_base = brake[left_base.item()]"
   ]
  },
  {
   "cell_type": "code",
   "execution_count": 74,
   "id": "0e99a894",
   "metadata": {},
   "outputs": [
    {
     "name": "stdout",
     "output_type": "stream",
     "text": [
      "99 0\n"
     ]
    }
   ],
   "source": [
    "print(value_at_first_peak,value_at_first_base)"
   ]
  },
  {
   "cell_type": "code",
   "execution_count": 77,
   "id": "c14ff0e9",
   "metadata": {},
   "outputs": [],
   "source": [
    "slope = (value_at_first_peak - value_at_first_base) / run_of_slope"
   ]
  },
  {
   "cell_type": "code",
   "execution_count": 78,
   "id": "33bdad1d",
   "metadata": {},
   "outputs": [
    {
     "name": "stdout",
     "output_type": "stream",
     "text": [
      "3.3\n"
     ]
    }
   ],
   "source": [
    "print(slope)"
   ]
  },
  {
   "cell_type": "code",
   "execution_count": 80,
   "id": "69013b75",
   "metadata": {},
   "outputs": [
    {
     "name": "stdout",
     "output_type": "stream",
     "text": [
      "0        0.000\n",
      "1        0.033\n",
      "2        0.050\n",
      "3        0.083\n",
      "4        0.100\n",
      "         ...  \n",
      "3420    84.889\n",
      "3421    84.922\n",
      "3422    84.939\n",
      "3423    84.972\n",
      "3424    84.989\n",
      "Name: elapsedTime, Length: 3425, dtype: float64\n"
     ]
    }
   ],
   "source": [
    "time = np_lap_data.loc[:,'elapsedTime']\n",
    "print(time)"
   ]
  },
  {
   "cell_type": "code",
   "execution_count": 82,
   "id": "3ff85599",
   "metadata": {},
   "outputs": [
    {
     "name": "stdout",
     "output_type": "stream",
     "text": [
      "9.976 9.225\n"
     ]
    }
   ],
   "source": [
    "first_left_base_time = time[left_base.item()]\n",
    "first_peak_time = time[first_peak.item()]\n",
    "print(first_peak_time, first_left_base_time)"
   ]
  },
  {
   "cell_type": "code",
   "execution_count": 85,
   "id": "6dce02f5",
   "metadata": {},
   "outputs": [],
   "source": [
    "slope = (value_at_first_peak - value_at_first_base) / (first_peak_time - first_left_base_time)"
   ]
  },
  {
   "cell_type": "code",
   "execution_count": 86,
   "id": "49eda0ba",
   "metadata": {},
   "outputs": [
    {
     "name": "stdout",
     "output_type": "stream",
     "text": [
      "131.8242343541942\n"
     ]
    }
   ],
   "source": [
    "print(slope)"
   ]
  },
  {
   "cell_type": "code",
   "execution_count": 127,
   "id": "204b9033",
   "metadata": {},
   "outputs": [
    {
     "ename": "NameError",
     "evalue": "name 'numpy' is not defined",
     "output_type": "error",
     "traceback": [
      "\u001b[0;31m---------------------------------------------------------------------------\u001b[0m",
      "\u001b[0;31mNameError\u001b[0m                                 Traceback (most recent call last)",
      "\u001b[0;32m/var/folders/c9/xyst0sc16671gzm0s1m2ff1w0000gn/T/ipykernel_27655/1050977085.py\u001b[0m in \u001b[0;36m<module>\u001b[0;34m\u001b[0m\n\u001b[1;32m      2\u001b[0m \u001b[0;32mfor\u001b[0m \u001b[0mi\u001b[0m \u001b[0;32min\u001b[0m \u001b[0mpeaks_brake\u001b[0m\u001b[0;34m:\u001b[0m\u001b[0;34m\u001b[0m\u001b[0;34m\u001b[0m\u001b[0m\n\u001b[1;32m      3\u001b[0m     \u001b[0mpi\u001b[0m \u001b[0;34m=\u001b[0m \u001b[0mbrake\u001b[0m\u001b[0;34m[\u001b[0m\u001b[0mi\u001b[0m\u001b[0;34m]\u001b[0m\u001b[0;34m\u001b[0m\u001b[0;34m\u001b[0m\u001b[0m\n\u001b[0;32m----> 4\u001b[0;31m     \u001b[0mPi\u001b[0m \u001b[0;34m=\u001b[0m \u001b[0mnumpy\u001b[0m\u001b[0;34m.\u001b[0m\u001b[0mappend\u001b[0m\u001b[0;34m(\u001b[0m\u001b[0marr\u001b[0m\u001b[0;34m,\u001b[0m \u001b[0mvalues\u001b[0m\u001b[0;34m,\u001b[0m \u001b[0maxis\u001b[0m\u001b[0;34m=\u001b[0m\u001b[0;32mNone\u001b[0m\u001b[0;34m)\u001b[0m\u001b[0;34m[\u001b[0m\u001b[0msource\u001b[0m\u001b[0;34m]\u001b[0m\u001b[0;34m\u001b[0m\u001b[0;34m\u001b[0m\u001b[0m\n\u001b[0m\u001b[1;32m      5\u001b[0m \u001b[0;34m\u001b[0m\u001b[0m\n\u001b[1;32m      6\u001b[0m \u001b[0;34m\u001b[0m\u001b[0m\n",
      "\u001b[0;31mNameError\u001b[0m: name 'numpy' is not defined"
     ]
    }
   ],
   "source": [
    "Pi = []\n",
    "for i in peaks_brake:\n",
    "    pi = brake[i]\n",
    "    Pi = numpy.append(arr, values, axis=None)[source]\n",
    "        \n",
    "    "
   ]
  },
  {
   "cell_type": "code",
   "execution_count": 121,
   "id": "96e2c7de",
   "metadata": {},
   "outputs": [
    {
     "name": "stdout",
     "output_type": "stream",
     "text": [
      "[100]\n"
     ]
    }
   ],
   "source": [
    "print(Pi)"
   ]
  },
  {
   "cell_type": "code",
   "execution_count": 162,
   "id": "16a86307",
   "metadata": {},
   "outputs": [
    {
     "name": "stdout",
     "output_type": "stream",
     "text": [
      "<class 'list'>\n"
     ]
    }
   ],
   "source": [
    "print(type(list(peaks_brake)))"
   ]
  },
  {
   "cell_type": "code",
   "execution_count": 223,
   "id": "149b4dce",
   "metadata": {},
   "outputs": [
    {
     "name": "stdout",
     "output_type": "stream",
     "text": [
      "[ 99.  52.  68.  19.  14.  16.  43.  61. 100.]\n",
      "[ 9.976 14.097 27.982 31.969 32.82  55.558 57.093 69.574 76.28 ]\n"
     ]
    }
   ],
   "source": [
    "y2 = []\n",
    "x2 = []\n",
    "for i in peaks_brake:\n",
    "    pi = brake[i]\n",
    "    ti = time[i]\n",
    "    y2 = np.append(y2, pi, axis=None)\n",
    "    x2 = np.append(x2, ti, axis=None)\n",
    "print(y2)\n",
    "print(x2)"
   ]
  },
  {
   "cell_type": "code",
   "execution_count": 227,
   "id": "9fcda603",
   "metadata": {},
   "outputs": [
    {
     "name": "stdout",
     "output_type": "stream",
     "text": [
      "[ 0.  0.  0.  0. 11.  0.  0.  0.  0.]\n",
      "[ 9.225 13.746 27.565 31.686 32.503 55.258 56.743 69.19  75.663]\n"
     ]
    }
   ],
   "source": [
    "y1 = []\n",
    "x1 = []\n",
    "for i in left_bases:\n",
    "    li = brake[i]\n",
    "    ti = time[i]\n",
    "    y1 = np.append(y1,li, axis=None)\n",
    "    x1 = np.append(x1, ti, axis=None)\n",
    "print(y1)\n",
    "print(x1)"
   ]
  },
  {
   "cell_type": "code",
   "execution_count": 225,
   "id": "b43001a0",
   "metadata": {},
   "outputs": [
    {
     "name": "stdout",
     "output_type": "stream",
     "text": [
      "[131.82423435 148.14814815 163.06954436  67.13780919   9.4637224\n",
      "  53.33333333 122.85714286 158.85416667 162.07455429]\n"
     ]
    }
   ],
   "source": [
    "all_slopes = (y2-y1)/(x2-x1)\n",
    "print(all_slopes)"
   ]
  },
  {
   "cell_type": "code",
   "execution_count": 228,
   "id": "39962584",
   "metadata": {},
   "outputs": [
    {
     "data": {
      "text/plain": [
       "[<matplotlib.lines.Line2D at 0x7fd33274c070>]"
      ]
     },
     "execution_count": 228,
     "metadata": {},
     "output_type": "execute_result"
    },
    {
     "data": {
      "image/png": "[encoded data removed]",
      "text/plain": [
       "<Figure size 432x288 with 1 Axes>"
      ]
     },
     "metadata": {
      "needs_background": "light"
     },
     "output_type": "display_data"
    }
   ],
   "source": [
    "plt.plot(time_elapsed, brake)"
   ]
  },
  {
   "cell_type": "code",
   "execution_count": 1,
   "id": "7ec4b009",
   "metadata": {},
   "outputs": [],
   "source": [
    "brake = [0,0,0,0,0,0,0,0,4,5,5,5,5,6,6,6,6,7,7,7,7,7,7,7,8,8,9,10,10,10,10,10,11,11,11,11,12,12,12,12,12,13,14,15,15,17,18,19,19,19,20,20,20,20,21,21,21,22,22,22,5,5,5,24,24,24,24,25,25,25,25,25,26,26,25,25,25,26,26,27,70,72,83,92,92,94,95,98,98,98,100,100,100,100,100,100,100,100,100,100,100]\n",
    "steering = [100,99,98,97,96,95,94,93,92,91,90,89,88,87,86,85,84,83,82,81,80,79,78,77,76,75,74,73,72,71,70,69,68,67,66,65,64,63,62,61,60,59,58,57,56,55,54,53,52,51,50,49,48,47,46,45,44,43,42,41,40,39,38,37,36,35,34,33,32,31,30,29,28,27,26,25,24,23,22,21,20,19,18,17,16,15,14,13,12,11,10,9,8,7,6,5,4,3,2,1,0]\n",
    "#this is used by get_list_of_max_reccomended_braking_percent to generate a limit of braking that can be applied \n",
    "\n",
    "steering_brake_limit_list = dict(zip(steering, brake))  "
   ]
  },
  {
   "cell_type": "code",
   "execution_count": 2,
   "id": "1f796ae5",
   "metadata": {},
   "outputs": [
    {
     "name": "stdout",
     "output_type": "stream",
     "text": [
      "{100: 0, 99: 0, 98: 0, 97: 0, 96: 0, 95: 0, 94: 0, 93: 0, 92: 4, 91: 5, 90: 5, 89: 5, 88: 5, 87: 6, 86: 6, 85: 6, 84: 6, 83: 7, 82: 7, 81: 7, 80: 7, 79: 7, 78: 7, 77: 7, 76: 8, 75: 8, 74: 9, 73: 10, 72: 10, 71: 10, 70: 10, 69: 10, 68: 11, 67: 11, 66: 11, 65: 11, 64: 12, 63: 12, 62: 12, 61: 12, 60: 12, 59: 13, 58: 14, 57: 15, 56: 15, 55: 17, 54: 18, 53: 19, 52: 19, 51: 19, 50: 20, 49: 20, 48: 20, 47: 20, 46: 21, 45: 21, 44: 21, 43: 22, 42: 22, 41: 22, 40: 5, 39: 5, 38: 5, 37: 24, 36: 24, 35: 24, 34: 24, 33: 25, 32: 25, 31: 25, 30: 25, 29: 25, 28: 26, 27: 26, 26: 25, 25: 25, 24: 25, 23: 26, 22: 26, 21: 27, 20: 70, 19: 72, 18: 83, 17: 92, 16: 92, 15: 94, 14: 95, 13: 98, 12: 98, 11: 98, 10: 100, 9: 100, 8: 100, 7: 100, 6: 100, 5: 100, 4: 100, 3: 100, 2: 100, 1: 100, 0: 100}\n"
     ]
    }
   ],
   "source": [
    "print(steering_brake_limit_list)"
   ]
  },
  {
   "cell_type": "code",
   "execution_count": null,
   "id": "63f111c7",
   "metadata": {},
   "outputs": [],
   "source": []
  }
 ],
 "metadata": {
  "interpreter": {
   "hash": "aee8b7b246df8f9039afb4144a1f6fd8d2ca17a180786b69acc140d282b71a49"
  },
  "kernelspec": {
   "display_name": "Python 3.9.9 64-bit",
   "language": "python",
   "name": "python3"
  },
  "language_info": {
   "codemirror_mode": {
    "name": "ipython",
    "version": 3
   },
   "file_extension": ".py",
   "mimetype": "text/x-python",
   "name": "python",
   "nbconvert_exporter": "python",
   "pygments_lexer": "ipython3",
   "version": "3.9.9"
  }
 },
 "nbformat": 4,
 "nbformat_minor": 5
}
